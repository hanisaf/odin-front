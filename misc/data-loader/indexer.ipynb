{
 "cells": [
  {
   "cell_type": "code",
   "execution_count": 6,
   "metadata": {
    "collapsed": true
   },
   "outputs": [],
   "source": [
    "#!/usr/bin/env python3\n",
    "import os\n",
    "import logging\n",
    "import optparse\n",
    "from datetime import datetime\n",
    "import requests\n",
    "import json"
   ]
  },
  {
   "cell_type": "code",
   "execution_count": 5,
   "metadata": {
    "collapsed": true
   },
   "outputs": [],
   "source": [
    "q=  {\n",
    "        \"mappings\": {\n",
    "            \"_doc\": {\n",
    "                \"dynamic_templates\": [\n",
    "                    {\n",
    "                        \"objects\": {\n",
    "                            \"match\": \"*\",\n",
    "                            \"match_mapping_type\" : \"object\",\n",
    "                            \"mapping\": {\n",
    "                                \"type\": \"nested\",\n",
    "                                \"include_in_parent\": True\n",
    "                            }\n",
    "\n",
    "                        }\n",
    "                    }, \n",
    "                    {\n",
    "                        \"strings_as_keywords\": {\n",
    "                            \"match_mapping_type\": \"*\",\n",
    "                            \"mapping\": {\n",
    "                                \"type\": \"keyword\"\n",
    "                            }\n",
    "                        }\n",
    "                    }\n",
    "\n",
    "                ],\n",
    "                \"properties\": {\n",
    "                    \"id\": { \"type\": \"keyword\" },\n",
    "                    \"type\": { \"type\": \"keyword\" },\n",
    "                    \"timestamp\": {\"type\": \"date\"},\n",
    "                    \"text\": { \"type\": \"text\", \"analyzer\": \"stop_analyzer\" }\n",
    "                }\n",
    "            }\n",
    "        },\n",
    "        \"settings\": {\n",
    "            \"analysis\": {\n",
    "                \"analyzer\": {\n",
    "                    \"stop_analyzer\": {\n",
    "                        \"type\": \"stop\",\n",
    "                        \"stopwords\": \"_none_\",\n",
    "                        \"ignore_case\": True\n",
    "                    }\n",
    "                }\n",
    "            }\n",
    "        }\n",
    "    }"
   ]
  },
  {
   "cell_type": "code",
   "execution_count": 2,
   "metadata": {
    "collapsed": true
   },
   "outputs": [],
   "source": [
    "logging.basicConfig(level=logging.INFO,\n",
    "                    format='%(asctime)s %(levelname)s %(message)s')"
   ]
  },
  {
   "cell_type": "code",
   "execution_count": null,
   "metadata": {
    "collapsed": true
   },
   "outputs": [],
   "source": [
    "def process(options):\n",
    "\n",
    "    logging.info(\"Testing ES ... \")\n",
    "    url = options.server + \"/\" + options.index\n",
    "    print(url)\n",
    "    headers = {'content-type': 'application/json'}\n",
    "    res=requests.get(url)\n",
    "    logging.info(\"Reading input file ... \")    \n",
    "    data = json.load(open(options.input, \"r\"))\n",
    "    assert len(data) > 0\n",
    "    logging.info(\"Creating index ... \")\n",
    "#     # first if type is available, we need to map it to a keyword\n",
    "#     row = data[0]\n",
    "#     if 'type' in row.keys() and options.mapping != \"yes\":\n",
    "#         create_index = \"\"\"\n",
    "#             {\n",
    "#                 \"mappings\": {\n",
    "#                     \"_doc\": {\n",
    "#                     \"properties\": {\n",
    "#                       \"type\": { \"type\": \"keyword\" }\n",
    "#                     }\n",
    "#                     }\n",
    "#                 }\n",
    "#             }\n",
    "#             \"\"\"\n",
    "#         res = requests.put(url, create_index, headers=headers).text\n",
    "#         logging.info(res)\n",
    "#     elif options.mapping == \"yes\":\n",
    "#         create_index = \"\"\"\n",
    "#             {\n",
    "#                 \"mappings\": {\n",
    "#                     \"_doc\": {\n",
    "#                     \"dynamic_templates\": [\n",
    "#                             {\n",
    "#                                 \"strings_as_keywords\": {\n",
    "#                                   \"match_mapping_type\": \"string\",\n",
    "#                                   \"mapping\": {\n",
    "#                                    \"type\": \"keyword\"\n",
    "#                                   }\n",
    "#                             }\n",
    "#                           }\n",
    "\n",
    "#                         ],                    \n",
    "#                     \"properties\": {\n",
    "#                        \"type\": { \"type\": \"keyword\" },\n",
    "#                        \"text\": { \"type\": \"text\" }\n",
    "#                     }\n",
    "#                     }\n",
    "#                 }\n",
    "#             }\n",
    "#             \"\"\"\n",
    "#         res = requests.put(url, create_index, headers=headers).text\n",
    "#         logging.info(res)\n",
    "    if options.stop != \"none\":\n",
    "        language = \"_\" + options.stop + \"_\"\n",
    "        q[\"settings\"][\"analysis\"][\"analyzer\"][\"stop_analyzer\"][\"stopwords\"] = language\n",
    "    builtin = [\"type\", \"text\", \"timestamp\", \"id\"]\n",
    "    row = data[0]\n",
    "    for b in builtin:\n",
    "        if b not in row.keys():\n",
    "            del q[\"mappings\"][\"_doc\"][\"properties\"][b]\n",
    "    res = requests.put(url, json.dumps(q), headers=headers).text\n",
    "    logging.info(res)\n",
    "    logging.info(\"Loading data ... \")\n",
    "    errors = 0\n",
    "    for i in range(len(data)):\n",
    "        doc = data[i]\n",
    "        idx = str(i)\n",
    "        if 'id' in doc.keys():\n",
    "            idx = str(doc['id'])\n",
    "        try:\n",
    "            res = requests.post(url=url+\"/_doc/\"+idx,json=doc)\n",
    "            if res.status_code < 200 or res.status_code > 299:\n",
    "                logging.error(res.text)\n",
    "        except Exception as inst:\n",
    "            errors=errors+1\n",
    "            logging.error(\"Cannot process document %d\" %i)\n",
    "            logging.error(type(inst))\n",
    "            logging.error(inst)\n",
    "            logging.error(i)\n",
    "        if i % 1000 == 0:\n",
    "            logging.info(\"%d documents processed\" % i)   \n",
    "    logging.info(\"%d documents processed\" % i)\n",
    "    logging.info(\"Done!\")\n",
    "    if errors > 0:\n",
    "        logging.error(\"%d errors were encountered\"%errors)"
   ]
  },
  {
   "cell_type": "code",
   "execution_count": 3,
   "metadata": {
    "collapsed": true
   },
   "outputs": [],
   "source": [
    "def main():\n",
    "    usage = \"usage: %prog [options]\"\n",
    "    parser = optparse.OptionParser(usage)\n",
    "    parser.add_option(\"-i\", \"--input\",  dest=\"input\",\n",
    "                    action=\"store\", type=\"string\", default=\"out.json\",\n",
    "                    help=\"\"\"input file name, .json file generated by preprocessor\n",
    "                            default is out.json\"\"\")\n",
    "\n",
    "#     parser.add_option(\"-m\", \"--mapping\", dest=\"mapping\",\n",
    "#                      action=\"store\", type=\"string\", default=\"yes\",\n",
    "#                      help=\"create index with default mappings, default is yes\")\n",
    "\n",
    "    parser.add_option(\"-s\", \"--server\", dest=\"server\",\n",
    "                     action=\"store\", type=\"string\", default=\"http://localhost:9200\",\n",
    "                     help=\"elasticsearch url, default is http://localhost:9200\")\n",
    "    \n",
    "    parser.add_option(\"-x\", \"--index\", dest=\"index\",\n",
    "                     action=\"store\", type=\"string\", default=\"documents\",\n",
    "                     help=\"elasticsearch index name, default is documents\")\n",
    "     \n",
    "    parser.add_option(\"-w\", \"--stop-words\", dest=\"stop\",\n",
    "                     action=\"store\", type=\"string\", default=\"none\",\n",
    "                     help=\"filter stop words, indicate the language or none: arabic, armenian, basque, bengali, brazilian, bulgarian, catalan, czech, danish, dutch, english, finnish, french, galician, german, greek, hindi, hungarian, indonesian, irish, italian, latvian, norwegian, persian, portuguese, romanian, russian, sorani, spanish, swedish, thai, turkish\")\n",
    "            \n",
    "    options, args = parser.parse_args()\n",
    "    \n",
    "    process(options)"
   ]
  },
  {
   "cell_type": "code",
   "execution_count": null,
   "metadata": {
    "collapsed": true
   },
   "outputs": [],
   "source": [
    "if __name__ == \"__main__\":\n",
    "    main()  \n",
    "    exit()"
   ]
  },
  {
   "cell_type": "code",
   "execution_count": 1,
   "metadata": {},
   "outputs": [
    {
     "name": "stdout",
     "output_type": "stream",
     "text": [
      "[NbConvertApp] Converting notebook indexer.ipynb to script\n",
      "[NbConvertApp] Writing 6580 bytes to indexer.py\n"
     ]
    }
   ],
   "source": [
    "!jupyter nbconvert --to script indexer.ipynb"
   ]
  },
  {
   "cell_type": "code",
   "execution_count": null,
   "metadata": {
    "collapsed": true
   },
   "outputs": [],
   "source": []
  }
 ],
 "metadata": {
  "kernelspec": {
   "display_name": "Python 3",
   "language": "python",
   "name": "python3"
  },
  "language_info": {
   "codemirror_mode": {
    "name": "ipython",
    "version": 3
   },
   "file_extension": ".py",
   "mimetype": "text/x-python",
   "name": "python",
   "nbconvert_exporter": "python",
   "pygments_lexer": "ipython3",
   "version": "3.7.3"
  }
 },
 "nbformat": 4,
 "nbformat_minor": 1
}
